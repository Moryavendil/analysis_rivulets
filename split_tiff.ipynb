{
 "cells": [
  {
   "cell_type": "code",
   "execution_count": 41,
   "outputs": [],
   "source": [
    "%matplotlib notebook\n",
    "\n",
    "import os\n",
    "import numpy as np\n",
    "import matplotlib.pyplot as plt\n",
    "\n",
    "# plt.rcParams['pgf.texsystem'] = 'pdflatex'\n",
    "# plt.rcParams.update({'font.family': 'serif', 'font.size': 18,\n",
    "#                      'figure.titlesize' : 28,\n",
    "#                      'axes.labelsize': 20,'axes.titlesize': 24,\n",
    "#                      'legend.fontsize': 20, 'legend.handlelength': 2})\n",
    "# plt.rcParams['text.usetex'] = True\n",
    "plt.rcParams[\"figure.figsize\"] = (10, 6)\n",
    "\n",
    "from matplotlib.colors import Normalize # colormaps\n",
    "from scipy.optimize import curve_fit # curve fitting\n",
    "from scipy.signal.windows import get_window # FFT windowing\n",
    "\n",
    "from tools import datareading, rivuletfinding, utility, datasaving"
   ],
   "metadata": {
    "collapsed": false
   }
  },
  {
   "cell_type": "markdown",
   "source": [
    "This script takes a tiff raw (16 bits) video (i.e. a folder containing numerous .tiff files) and splits it into several GCV (GevCaptureVideos) files"
   ],
   "metadata": {
    "collapsed": false
   }
  },
  {
   "cell_type": "code",
   "execution_count": 42,
   "outputs": [
    {
     "name": "stdout",
     "output_type": "stream",
     "text": [
      "Available acquisitions: ['f50d100', 'f50d100_0', 'f50d100_1000', 'f50d100_1500', 'f50d100_2000', 'f50d100_2400', 'f50d100_3000', 'f50d100_3500', 'f50d105', 'f50d105_0', 'f50d105_1000', 'f50d105_1500', 'f50d105_2000', 'f50d105_2400', 'f50d105_3000', 'f50d105_3500', 'f50d110', 'f50d110_0', 'f50d110_1000', 'f50d110_1500', 'f50d110_2000', 'f50d110_2400', 'f50d110_3000', 'f50d90', 'f50d90_0', 'f50d90_1000', 'f50d90_1500', 'f50d90_2000', 'f50d90_2400', 'f50d90_3000', 'f50d90_3500', 'f50d95', 'f50d95_0', 'f50d95_1000', 'f50d95_1500', 'f50d95_2000', 'f50d95_2400', 'f50d95_3000', 'f50d95_3500']\n"
     ]
    }
   ],
   "source": [
    "# Dataset selection\n",
    "dataset = 'f50_d95_110'\n",
    "dataset_path = '../' + dataset\n",
    "print('Available acquisitions:', datareading.find_available_videos(dataset_path))"
   ],
   "metadata": {
    "collapsed": false
   }
  },
  {
   "cell_type": "code",
   "execution_count": 43,
   "outputs": [
    {
     "data": {
      "text/plain": "True"
     },
     "execution_count": 43,
     "metadata": {},
     "output_type": "execute_result"
    }
   ],
   "source": [
    "# Acquisition selection : select the acquisition you wish to work on\n",
    "acquisition = 'f50d105'\n",
    "acquisition_path = os.path.join(dataset_path, acquisition)\n",
    "datareading.is_this_a_video(acquisition_path)"
   ],
   "metadata": {
    "collapsed": false
   }
  },
  {
   "cell_type": "code",
   "execution_count": 44,
   "outputs": [
    {
     "name": "stdout",
     "output_type": "stream",
     "text": [
      "There are 14001 frames\n"
     ]
    }
   ],
   "source": [
    "number_of_frames = datareading.get_number_of_available_frames(acquisition_path)\n",
    "\n",
    "print(f'There are {number_of_frames} frames')\n",
    "\n",
    "captureCameraName = '\"Chronos 1.4\"' # name of the camera\n",
    "acquisition_frequency = 1000. #FPS\n",
    "exposure_time = 225. #exp\n",
    "captureProg = '\"Chronos software version ?\"'"
   ],
   "metadata": {
    "collapsed": false
   }
  },
  {
   "cell_type": "code",
   "execution_count": 45,
   "outputs": [],
   "source": [
    "intervals = {'0':       [0,     1997],\n",
    "             '1000':     [1998,  3997],\n",
    "             '1500':     [3998,  5997],\n",
    "             '2000':     [5998,  7997],\n",
    "             '2400':     [7998,  9997],\n",
    "             '3000':    [9998,  11997],\n",
    "             '3500':    [11998, 13997]}\n",
    "# intervals = {'0':       [0,     1997],\n",
    "#              '1000':     [1998,  3997],\n",
    "#              '1500':     [3998,  5997],\n",
    "#              '2000':     [5998,  7997],\n",
    "#              '2400':     [7998,  10257],\n",
    "#              '3000':    [10258, number_of_frames-1]}"
   ],
   "metadata": {
    "collapsed": false
   }
  },
  {
   "cell_type": "code",
   "execution_count": 46,
   "outputs": [
    {
     "name": "stdout",
     "output_type": "stream",
     "text": [
      "Interval 1 (\"0\"): frames 0 to 1997\n",
      "(1998, 360, 1280) ; uint8\n"
     ]
    },
    {
     "ename": "FileExistsError",
     "evalue": "[Errno 17] File exists: '../f50_d95_110/f50d105_0.gcv'",
     "output_type": "error",
     "traceback": [
      "\u001B[0;31m---------------------------------------------------------------------------\u001B[0m",
      "\u001B[0;31mFileExistsError\u001B[0m                           Traceback (most recent call last)",
      "\u001B[0;32m/tmp/ipykernel_8913/1975470505.py\u001B[0m in \u001B[0;36m<module>\u001B[0;34m\u001B[0m\n\u001B[1;32m     11\u001B[0m \u001B[0;34m\u001B[0m\u001B[0m\n\u001B[1;32m     12\u001B[0m     \u001B[0mgcv_path\u001B[0m \u001B[0;34m=\u001B[0m \u001B[0mos\u001B[0m\u001B[0;34m.\u001B[0m\u001B[0mpath\u001B[0m\u001B[0;34m.\u001B[0m\u001B[0mjoin\u001B[0m\u001B[0;34m(\u001B[0m\u001B[0mdataset_path\u001B[0m\u001B[0;34m,\u001B[0m \u001B[0msub_acquisition\u001B[0m \u001B[0;34m+\u001B[0m \u001B[0;34m'.gcv'\u001B[0m\u001B[0;34m)\u001B[0m\u001B[0;34m\u001B[0m\u001B[0;34m\u001B[0m\u001B[0m\n\u001B[0;32m---> 13\u001B[0;31m     \u001B[0mos\u001B[0m\u001B[0;34m.\u001B[0m\u001B[0mmkdir\u001B[0m\u001B[0;34m(\u001B[0m\u001B[0mgcv_path\u001B[0m\u001B[0;34m)\u001B[0m\u001B[0;34m\u001B[0m\u001B[0;34m\u001B[0m\u001B[0m\n\u001B[0m\u001B[1;32m     14\u001B[0m \u001B[0;34m\u001B[0m\u001B[0m\n\u001B[1;32m     15\u001B[0m     \u001B[0msub_acquisition_path\u001B[0m \u001B[0;34m=\u001B[0m \u001B[0mos\u001B[0m\u001B[0;34m.\u001B[0m\u001B[0mpath\u001B[0m\u001B[0;34m.\u001B[0m\u001B[0mjoin\u001B[0m\u001B[0;34m(\u001B[0m\u001B[0mgcv_path\u001B[0m\u001B[0;34m,\u001B[0m \u001B[0msub_acquisition\u001B[0m\u001B[0;34m)\u001B[0m\u001B[0;34m\u001B[0m\u001B[0;34m\u001B[0m\u001B[0m\n",
      "\u001B[0;31mFileExistsError\u001B[0m: [Errno 17] File exists: '../f50_d95_110/f50d105_0.gcv'"
     ]
    }
   ],
   "source": [
    "for i, interval_name in enumerate(intervals):\n",
    "    print(f'Interval {i+1} (\"{interval_name}\"): frames {intervals[interval_name][0]} to {intervals[interval_name][1]}')\n",
    "\n",
    "    framenumbers = np.arange(intervals[interval_name][0], intervals[interval_name][1] + 1)\n",
    "    frames = datareading.get_frames(acquisition_path, framenumbers = framenumbers)\n",
    "    length, height, width = frames.shape\n",
    "    print(frames.shape, end=' ; ')\n",
    "    print(frames.dtype)\n",
    "\n",
    "    sub_acquisition = f'{acquisition}_{interval_name}'\n",
    "\n",
    "    gcv_path = os.path.join(dataset_path, sub_acquisition + '.gcv')\n",
    "    os.mkdir(gcv_path)\n",
    "\n",
    "    sub_acquisition_path = os.path.join(gcv_path, sub_acquisition)\n",
    "\n",
    "    # WRITE THE VIDEO IN RAW FORM\n",
    "    rawvideo_path = sub_acquisition_path + '.raw'\n",
    "    frames.tofile(rawvideo_path)\n",
    "\n",
    "    # WRITE THE META\n",
    "    meta:datareading.Meta = {}\n",
    "    meta['usingROI'] = 'false'\n",
    "    meta['subRegionX'] = '0'\n",
    "    meta['subRegionY'] = '0'\n",
    "    meta['subRegionWidth'] = str(width)\n",
    "    meta['subRegionHeight'] = str(height)\n",
    "    meta['captureCameraName'] = str(captureCameraName)\n",
    "    meta['captureFrequency'] = str(acquisition_frequency)\n",
    "    meta['captureExposureTime'] = str(exposure_time)\n",
    "    meta['captureProg'] = str(captureProg)\n",
    "\n",
    "    meta_path = sub_acquisition_path + '.meta'\n",
    "    try:\n",
    "        with open(meta_path, 'w') as meta_file:\n",
    "            for i, key in enumerate(meta):\n",
    "                meta_file.write(f'{key}={meta[key]}')\n",
    "                if i < len(meta) - 1:\n",
    "                    meta_file.write('\\n')\n",
    "    except:\n",
    "        raise(Exception(f'ERROR: Problem with the {sub_acquisition_path} meta file (probably it could not be opened).'))\n",
    "\n",
    "    # WRITE THE STAMPS\n",
    "    ms_per_frame = 1000/acquisition_frequency\n",
    "    ns_per_frame = 1e9/acquisition_frequency\n",
    "    stamps:datareading.Stamps = {'framenumber': np.arange(length, dtype=int),\n",
    "                                 'camera_time': (np.arange(length, dtype=float) * ns_per_frame).astype(np.int64),\n",
    "                                 'computer_time': (np.arange(length, dtype=float) * ms_per_frame).astype(np.int64)}\n",
    "\n",
    "    stamps_path = sub_acquisition_path + '.stamps'\n",
    "    try:\n",
    "        with open(stamps_path, 'w') as stamps_file:\n",
    "            for i_line in range(length):\n",
    "                stamps_file.write(f'{stamps[\"framenumber\"][i_line]}\\t{stamps[\"camera_time\"][i_line]}\\t{stamps[\"computer_time\"][i_line]}')\n",
    "                if i_line < length - 1:\n",
    "                    stamps_file.write('\\n')\n",
    "    except:\n",
    "        raise(Exception(f'ERROR: Problem with the {sub_acquisition_path} stamps file (probably it could not be opened).'))\n",
    "\n"
   ],
   "metadata": {
    "collapsed": false
   }
  },
  {
   "cell_type": "code",
   "execution_count": null,
   "outputs": [],
   "source": [],
   "metadata": {
    "collapsed": false
   }
  }
 ],
 "metadata": {
  "kernelspec": {
   "display_name": "Python 3",
   "language": "python",
   "name": "python3"
  },
  "language_info": {
   "codemirror_mode": {
    "name": "ipython",
    "version": 2
   },
   "file_extension": ".py",
   "mimetype": "text/x-python",
   "name": "python",
   "nbconvert_exporter": "python",
   "pygments_lexer": "ipython2",
   "version": "2.7.6"
  }
 },
 "nbformat": 4,
 "nbformat_minor": 0
}
