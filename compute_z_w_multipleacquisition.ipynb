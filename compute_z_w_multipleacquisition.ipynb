{
 "cells": [
  {
   "cell_type": "code",
   "execution_count": 1,
   "outputs": [
    {
     "name": "stdout",
     "output_type": "stream",
     "text": [
      "tools version 0.9.2                                                             \n"
     ]
    }
   ],
   "source": [
    "%matplotlib notebook\n",
    "\n",
    "import os\n",
    "import numpy as np\n",
    "import matplotlib.pyplot as plt\n",
    "\n",
    "# plt.rcParams['pgf.texsystem'] = 'pdflatex'\n",
    "# plt.rcParams.update({'font.family': 'serif', 'font.size': 18,\n",
    "#                      'figure.titlesize' : 28,\n",
    "#                      'axes.labelsize': 20,'axes.titlesize': 24,\n",
    "#                      'legend.fontsize': 20, 'legend.handlelength': 2})\n",
    "# plt.rcParams['text.usetex'] = True\n",
    "plt.rcParams[\"figure.figsize\"] = (12, 8)\n",
    "\n",
    "from matplotlib.colors import Normalize # colormaps\n",
    "from scipy.optimize import curve_fit # curve fitting\n",
    "from scipy.signal.windows import get_window # FFT windowing\n",
    "\n",
    "from tools import datareading, rivuletfinding, utility, datasaving"
   ],
   "metadata": {
    "collapsed": false
   }
  },
  {
   "cell_type": "code",
   "execution_count": 2,
   "outputs": [
    {
     "name": "stdout",
     "output_type": "stream",
     "text": [
      "Available acquisitions: ['f50d100_0', 'f50d100_1000', 'f50d100_1500', 'f50d100_2000', 'f50d100_2400', 'f50d100_3000', 'f50d100_3500', 'f50d105_0', 'f50d105_1000', 'f50d105_1500', 'f50d105_2000', 'f50d105_2400', 'f50d105_3000', 'f50d105_3500', 'f50d110_0', 'f50d110_1000', 'f50d110_1500', 'f50d110_2000', 'f50d110_2400', 'f50d110_3000', 'f50d90_0', 'f50d90_1000', 'f50d90_1500', 'f50d90_2000', 'f50d90_2400', 'f50d90_3000', 'f50d90_3500', 'f50d95_0', 'f50d95_1000', 'f50d95_1500', 'f50d95_2000', 'f50d95_2400', 'f50d95_3000', 'f50d95_3500']\n"
     ]
    }
   ],
   "source": [
    "# Dataset selection\n",
    "dataset = 'f50_d95_110'\n",
    "dataset_path = os.path.join('../', dataset)\n",
    "print('Available acquisitions:', datareading.find_available_videos(dataset_path))"
   ],
   "metadata": {
    "collapsed": false
   }
  },
  {
   "cell_type": "code",
   "execution_count": 3,
   "outputs": [
    {
     "name": "stdout",
     "output_type": "stream",
     "text": [
      "0953500\n",
      "['f50d90_0', 'f50d90_1000', 'f50d90_1500', 'f50d90_2000', 'f50d90_2400', 'f50d90_3000', 'f50d90_3500', 'f50d95_0', 'f50d95_1000', 'f50d95_1500', 'f50d95_2000', 'f50d95_2400', 'f50d95_3000', 'f50d95_3500', 'f50d100_0', 'f50d100_1000', 'f50d100_1500', 'f50d100_2000', 'f50d100_2400', 'f50d100_3000', 'f50d100_3500', 'f50d105_0', 'f50d105_1000', 'f50d105_1500', 'f50d105_2000', 'f50d105_2400', 'f50d105_3000', 'f50d105_3500', 'f50d110_0', 'f50d110_1000', 'f50d110_1500', 'f50d110_2000', 'f50d110_2400', 'f50d110_3000']\n"
     ]
    }
   ],
   "source": [
    "acquisitions = datareading.find_available_videos(dataset_path)\n",
    "\n",
    "import re\n",
    "\n",
    "text = 'f50d95_3500'\n",
    "try:\n",
    "    found = re.search('d(.+?)_', text).group(1).zfill(3) + re.search('_(.+)', text).group(1)\n",
    "except AttributeError:\n",
    "    found = ''\n",
    "print(found)\n",
    "\n",
    "acquisitions.sort(key=lambda acqu: re.search('d(.+?)_', acqu).group(1).zfill(3) + re.search('_(.+)', acqu).group(1))\n",
    "\n",
    "print(acquisitions)"
   ],
   "metadata": {
    "collapsed": false
   }
  },
  {
   "cell_type": "code",
   "execution_count": 4,
   "outputs": [
    {
     "name": "stdout",
     "output_type": "stream",
     "text": [
      "Dataset: \"f50_d95_110\", acquisition: \"f50d90_0\"\n",
      "DONE\n",
      "Dataset: \"f50_d95_110\", acquisition: \"f50d90_1000\"\n",
      "DONE\n",
      "Dataset: \"f50_d95_110\", acquisition: \"f50d90_1500\"\n",
      "DONE\n",
      "Dataset: \"f50_d95_110\", acquisition: \"f50d90_2000\"\n",
      "DONE\n",
      "Dataset: \"f50_d95_110\", acquisition: \"f50d90_2400\"\n",
      "DONE\n",
      "Dataset: \"f50_d95_110\", acquisition: \"f50d90_3000\"\n",
      "DONE\n",
      "Dataset: \"f50_d95_110\", acquisition: \"f50d90_3500\"\n",
      "DONE\n",
      "Dataset: \"f50_d95_110\", acquisition: \"f50d95_0\"\n",
      "DONE\n",
      "Dataset: \"f50_d95_110\", acquisition: \"f50d95_1000\"\n",
      "DONE\n",
      "Dataset: \"f50_d95_110\", acquisition: \"f50d95_1500\"\n",
      "DONE\n",
      "Dataset: \"f50_d95_110\", acquisition: \"f50d95_2000\"\n",
      "DONE\n",
      "Dataset: \"f50_d95_110\", acquisition: \"f50d95_2400\"\n",
      "DONE\n",
      "Dataset: \"f50_d95_110\", acquisition: \"f50d95_3000\"\n",
      "DONE\n",
      "Dataset: \"f50_d95_110\", acquisition: \"f50d95_3500\"\n",
      "DONE\n",
      "Dataset: \"f50_d95_110\", acquisition: \"f50d100_0\"\n",
      "DONE\n",
      "Dataset: \"f50_d95_110\", acquisition: \"f50d100_1000\"\n",
      "DONE\n",
      "Dataset: \"f50_d95_110\", acquisition: \"f50d100_1500\"\n",
      "DONE\n",
      "Dataset: \"f50_d95_110\", acquisition: \"f50d100_2000\"\n",
      "DONE\n",
      "Dataset: \"f50_d95_110\", acquisition: \"f50d100_2400\"\n",
      "DONE\n",
      "Dataset: \"f50_d95_110\", acquisition: \"f50d100_3000\"\n",
      "DONE\n",
      "Dataset: \"f50_d95_110\", acquisition: \"f50d100_3500\"\n",
      "DONE\n",
      "Dataset: \"f50_d95_110\", acquisition: \"f50d105_0\"\n",
      "DONE\n",
      "Dataset: \"f50_d95_110\", acquisition: \"f50d105_1000\"\n",
      "DONE\n",
      "Dataset: \"f50_d95_110\", acquisition: \"f50d105_1500\"\n",
      "DONE\n",
      "Dataset: \"f50_d95_110\", acquisition: \"f50d105_2000\"\n",
      "DONE\n",
      "Dataset: \"f50_d95_110\", acquisition: \"f50d105_2400\"\n",
      "DONE\n",
      "Dataset: \"f50_d95_110\", acquisition: \"f50d105_3000\"\n",
      "DONE\n",
      "Dataset: \"f50_d95_110\", acquisition: \"f50d105_3500\"\n",
      "DONE\n",
      "Dataset: \"f50_d95_110\", acquisition: \"f50d110_0\"\n",
      "DONE\n",
      "Dataset: \"f50_d95_110\", acquisition: \"f50d110_1000\"\n",
      "DONE\n",
      "Dataset: \"f50_d95_110\", acquisition: \"f50d110_1500\"\n",
      "DONE\n",
      "Dataset: \"f50_d95_110\", acquisition: \"f50d110_2000\"\n",
      "DONE\n",
      "Dataset: \"f50_d95_110\", acquisition: \"f50d110_2400\"\n",
      "DONE\n",
      "Dataset: \"f50_d95_110\", acquisition: \"f50d110_3000\"\n",
      "DONE\n"
     ]
    }
   ],
   "source": [
    "for acquisition in acquisitions:\n",
    "    # Acquisition selection\n",
    "    acquisition_path = os.path.join(dataset_path, acquisition)\n",
    "    datareading.is_this_a_video(acquisition_path)\n",
    "\n",
    "    # Parameters definition\n",
    "    framenumbers = None\n",
    "    roi = None, None, None, None  #start_x, start_y, end_x, end_y\n",
    "\n",
    "    # Data fetching\n",
    "    # frames = datareading.get_frames(acquisition_path, framenumbers = framenumbers, subregion=roi)\n",
    "    # length, height, width = frames.shape\n",
    "\n",
    "    # t = datareading.get_times(acquisition_path, framenumbers=framenumbers, unit='s')\n",
    "\n",
    "    # acquisition_frequency = datareading.get_acquisition_frequency(acquisition_path, unit=\"Hz\")\n",
    "\n",
    "    # print(f'Dataset: \"{dataset}\", acquisition: \"{acquisition}\"')\n",
    "    # print(f'Frames dimension: {height}x{width}')\n",
    "    # print(f'Length: {length} frames ({round(datareading.get_acquisition_duration(acquisition_path, framenumbers=framenumbers, unit=\"s\"), 2)} s - {frames.nbytes/10**6} MB)')\n",
    "    # print(f'Acquisition frequency: {round(datareading.get_acquisition_frequency(acquisition_path, unit=\"Hz\"), 2)} Hz')\n",
    "\n",
    "    print(f'Dataset: \"{dataset}\", acquisition: \"{acquisition}\"')\n",
    "\n",
    "    rivs = datasaving.fetch_or_generate_data('cos', dataset, acquisition, framenumbers=framenumbers, roi=roi)\n",
    "    try:\n",
    "        brds = datasaving.fetch_or_generate_data('borders', dataset, acquisition, framenumbers=framenumbers,\n",
    "                                                 roi=roi)\n",
    "    except:\n",
    "        pass\n",
    "\n",
    "    try:\n",
    "        bol = datasaving.fetch_or_generate_data('bol', dataset, acquisition, framenumbers=framenumbers, roi=roi)\n",
    "    except:\n",
    "        pass\n",
    "\n",
    "    print('DONE')\n"
   ],
   "metadata": {
    "collapsed": false
   }
  },
  {
   "cell_type": "markdown",
   "source": [],
   "metadata": {
    "collapsed": false
   }
  },
  {
   "cell_type": "code",
   "execution_count": 4,
   "outputs": [],
   "source": [],
   "metadata": {
    "collapsed": false
   }
  }
 ],
 "metadata": {
  "kernelspec": {
   "display_name": "Python 3",
   "language": "python",
   "name": "python3"
  },
  "language_info": {
   "codemirror_mode": {
    "name": "ipython",
    "version": 2
   },
   "file_extension": ".py",
   "mimetype": "text/x-python",
   "name": "python",
   "nbconvert_exporter": "python",
   "pygments_lexer": "ipython2",
   "version": "2.7.6"
  }
 },
 "nbformat": 4,
 "nbformat_minor": 0
}
